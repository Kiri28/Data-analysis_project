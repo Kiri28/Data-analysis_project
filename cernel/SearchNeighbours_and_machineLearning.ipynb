{
 "cells": [
  {
   "cell_type": "code",
   "execution_count": 2,
   "metadata": {},
   "outputs": [],
   "source": [
    "#Функция для удаления дубликатов\n",
    "def unique(lst):\n",
    "    seen = set()\n",
    "    result = []\n",
    "    for x in lst:\n",
    "        if x in seen:\n",
    "            continue\n",
    "        seen.add(x)\n",
    "        result.append(x)\n",
    "    return result"
   ]
  },
  {
   "cell_type": "code",
   "execution_count": 3,
   "metadata": {},
   "outputs": [
    {
     "name": "stdout",
     "output_type": "stream",
     "text": [
      "Экономика\n",
      "Бухгалтерский учет, анализ и аудит\n",
      "Финансы и кредит\n",
      "Коммерция\n",
      "Менеджмент\n",
      "Экономическая теория\n",
      "Национальная экономика\n",
      "Статистика\n",
      "Управление персоналом\n",
      "Мировая экономика\n",
      "Экономика труда\n",
      "Экономика (беспрофильный бакалавриат)\n",
      "Общеэкономическая подготовка\n",
      "Экономическая безопасность\n"
     ]
    }
   ],
   "source": [
    "#вывести список групп\n",
    "import sqlite3\n",
    "#Создание списка из всех направлений...\n",
    " \n",
    "conn = sqlite3.connect(\"stud_spisok_ege.db\")\n",
    "cursor = conn.cursor()\n",
    "\n",
    "#выбираем прошедшие данные чтобы их вывести...\n",
    "sql = \"SELECT grp_spec_grp_spec_name FROM stud_spisok \"\n",
    "cursor.execute(sql)\n",
    "#print(cursor.fetchall())\n",
    "specials=cursor.fetchall()\n",
    "\n",
    "conn.commit()\n",
    "conn.close()\n",
    "\n",
    "#Делаем список из специальностей\n",
    "spec=[]\n",
    "for i in range(len(unique(specials))):\n",
    "    spec.append(unique(specials)[i][0])\n",
    "    print(spec[i])"
   ]
  },
  {
   "cell_type": "code",
   "execution_count": 3,
   "metadata": {},
   "outputs": [],
   "source": [
    "#Возьмем оценки за 1 семестр у Экономики по математическому анализу"
   ]
  },
  {
   "cell_type": "code",
   "execution_count": 4,
   "metadata": {},
   "outputs": [],
   "source": [
    "#Ищем id студентов выбранной специальности\n",
    "import sqlite3\n",
    " \n",
    "conn = sqlite3.connect(\"stud_spisok_ege.db\")\n",
    "cursor = conn.cursor()\n",
    "\n",
    "#выбираем прошедшие данные чтобы их вывести...\n",
    "sql = \"SELECT stud_kod FROM stud_spisok WHERE grp_spec_grp_spec_name = ?\"\n",
    "cursor.execute(sql,[(spec[0])])\n",
    "#print(cursor.fetchall())\n",
    "students_kod=cursor.fetchall()\n",
    "\n",
    "conn.commit()\n",
    "conn.close()\n",
    "\n",
    "kod=[]\n",
    "for i in range(len(students_kod)):\n",
    "    kod.append(students_kod[i][0])\n",
    "#print(kod)"
   ]
  },
  {
   "cell_type": "code",
   "execution_count": 5,
   "metadata": {},
   "outputs": [],
   "source": [
    "slov_kods=dict.fromkeys(kod)"
   ]
  },
  {
   "cell_type": "code",
   "execution_count": 6,
   "metadata": {},
   "outputs": [],
   "source": [
    "#Находим список предметов, по которым были экзамены у выбранного направления\n",
    "def predms(ID,semestr):\n",
    "    import sqlite3\n",
    " \n",
    "    conn = sqlite3.connect(\"stud_spisok_ege.db\")\n",
    "    cursor = conn.cursor()\n",
    "\n",
    "    #выбираем прошедшие данные чтобы их вывести...\n",
    "    sql = \"SELECT predmet_name FROM stud_spisok_ball WHERE stud_kod = ? AND cd_type_name= ? AND semestr= ?\"\n",
    "    cursor.execute(sql,[(ID),(u'\\u042d\\u043a\\u0437\\u0430\\u043c\\u0435\\u043d'),(semestr)])\n",
    "    #print(cursor.fetchall())\n",
    "    students_kod=cursor.fetchall()\n",
    "\n",
    "    conn.commit()\n",
    "    conn.close()\n",
    "\n",
    "    predm=[]\n",
    "    for i in range(len(unique(students_kod))):\n",
    "        predm.append(unique(students_kod)[i][0])\n",
    "    return(predm)"
   ]
  },
  {
   "cell_type": "code",
   "execution_count": 65,
   "metadata": {},
   "outputs": [],
   "source": [
    "#predms(kod[0])\n",
    "#Это матанализ:\n",
    "#u'\\u041c\\u0430\\u0442\\u0435\\u043c\\u0430\\u0442\\u0438\\u0447\\u0435\\u0441\\u043a\\u0438\\u0439 \\u0430\\u043d\\u0430\\u043b\\u0438\\u0437'"
   ]
  },
  {
   "cell_type": "code",
   "execution_count": 7,
   "metadata": {},
   "outputs": [
    {
     "name": "stdout",
     "output_type": "stream",
     "text": [
      "Философия\n",
      "Математический анализ\n",
      "Линейная алгебра\n",
      "Психология\n"
     ]
    }
   ],
   "source": [
    "for i in predms(kod[0],1):\n",
    "    print(i)"
   ]
  },
  {
   "cell_type": "code",
   "execution_count": 8,
   "metadata": {},
   "outputs": [],
   "source": [
    "#Выводим оценки за выбранный предмет для каждого id:\n",
    "#Ищем id студентов выбранной специальности\n",
    "def markses(ID, predmet,semak):\n",
    "    import sqlite3\n",
    " \n",
    "    \n",
    "    conn = sqlite3.connect(\"stud_spisok_ege.db\")\n",
    "    cursor = conn.cursor()\n",
    "    \n",
    "    #matan='Математический анализ'\n",
    "\n",
    "    #выбираем прошедшие данные чтобы их вывести...\n",
    "    sql = \"SELECT ball FROM stud_spisok_ball WHERE stud_kod = ? AND predmet_name=? AND semestr=?\"\n",
    "    cursor.execute(sql,[(ID),(predmet),(semak)])\n",
    "    #print(cursor.fetchall())\n",
    "    marks=cursor.fetchall()\n",
    "    \n",
    "    \n",
    "    sql_11 = \"SELECT ball FROM stud_spisok_ball WHERE predmet_name=?\"\n",
    "    cursor.execute(sql_11,[(predmet)])\n",
    "    maximum=cursor.fetchall()\n",
    "    \n",
    "    conn.commit()\n",
    "    conn.close()\n",
    "    \n",
    "    new_11=0\n",
    "    for i in maximum:\n",
    "        if i[0]==None: continue\n",
    "        if new_11<i[0]: new_11=i[0]\n",
    "\n",
    "    new=[]\n",
    "    for i in marks:\n",
    "        if i[0]==None: new.append(0)\n",
    "        else:new.append(i[0]*100/new_11)\n",
    "    return(new)    "
   ]
  },
  {
   "cell_type": "code",
   "execution_count": 9,
   "metadata": {},
   "outputs": [
    {
     "data": {
      "text/plain": [
       "[47.5, 60.0, 52.5]"
      ]
     },
     "execution_count": 9,
     "metadata": {},
     "output_type": "execute_result"
    }
   ],
   "source": [
    "markses(kod[0],'Теория вероятностей и математическая статистика',3)"
   ]
  },
  {
   "cell_type": "code",
   "execution_count": 10,
   "metadata": {},
   "outputs": [],
   "source": [
    "crot=[100.0,100.0,100.0]"
   ]
  },
  {
   "cell_type": "code",
   "execution_count": 52,
   "metadata": {},
   "outputs": [
    {
     "ename": "NameError",
     "evalue": "name 'slov_kods' is not defined",
     "output_type": "error",
     "traceback": [
      "\u001b[0;31m---------------------------------------------------------------------------\u001b[0m",
      "\u001b[0;31mNameError\u001b[0m                                 Traceback (most recent call last)",
      "\u001b[0;32m<ipython-input-52-a95b6718a57a>\u001b[0m in \u001b[0;36m<module>\u001b[0;34m()\u001b[0m\n\u001b[1;32m      1\u001b[0m \u001b[0;31m#Делаем словарь из баллов и id студента\u001b[0m\u001b[0;34m\u001b[0m\u001b[0;34m\u001b[0m\u001b[0m\n\u001b[1;32m      2\u001b[0m \u001b[0;32mfor\u001b[0m \u001b[0mi\u001b[0m \u001b[0;32min\u001b[0m \u001b[0mkod\u001b[0m\u001b[0;34m:\u001b[0m\u001b[0;34m\u001b[0m\u001b[0m\n\u001b[0;32m----> 3\u001b[0;31m     \u001b[0mslov_kods\u001b[0m\u001b[0;34m[\u001b[0m\u001b[0mi\u001b[0m\u001b[0;34m]\u001b[0m\u001b[0;34m=\u001b[0m\u001b[0mmarkses\u001b[0m\u001b[0;34m(\u001b[0m\u001b[0mi\u001b[0m\u001b[0;34m,\u001b[0m \u001b[0;34m'Маркетинг'\u001b[0m\u001b[0;34m,\u001b[0m\u001b[0;36m7\u001b[0m\u001b[0;34m)\u001b[0m\u001b[0;34m\u001b[0m\u001b[0m\n\u001b[0m",
      "\u001b[0;31mNameError\u001b[0m: name 'slov_kods' is not defined"
     ]
    }
   ],
   "source": [
    "#Делаем словарь из баллов и id студента\n",
    "for i in kod:\n",
    "    slov_kods[i]=markses(i, 'Линейная алгебра',1)"
   ]
  },
  {
   "cell_type": "code",
   "execution_count": 79,
   "metadata": {},
   "outputs": [],
   "source": [
    "#slov_kods"
   ]
  },
  {
   "cell_type": "code",
   "execution_count": 11,
   "metadata": {},
   "outputs": [],
   "source": [
    "#Эвклидово расстояние\n",
    "def EuclideanDistance(list1, list2):\n",
    "    \n",
    "    #Если списки не равны, то уравниваем их:\n",
    "    if len(list1)!=len(list2):\n",
    "        if len(list1)>len(list2):\n",
    "            list2+=[0]*abs(len(list1)-len(list2))\n",
    "        else: \n",
    "            list1+=[0]*abs(len(list1)-len(list2))\n",
    "                           \n",
    "    Eukl=0\n",
    "    for i in range(len(list1)):\n",
    "        Eukl+=(list1[i]-list2[i])**2\n",
    "    return(Eukl**(1/2))"
   ]
  },
  {
   "cell_type": "code",
   "execution_count": 12,
   "metadata": {},
   "outputs": [
    {
     "data": {
      "text/plain": [
       "32.01562118716424"
      ]
     },
     "execution_count": 12,
     "metadata": {},
     "output_type": "execute_result"
    }
   ],
   "source": [
    "EuclideanDistance(markses(kod[0], 'Линейная алгебра',1), markses(kod[1], 'Линейная алгебра',1))"
   ]
  },
  {
   "cell_type": "code",
   "execution_count": 13,
   "metadata": {},
   "outputs": [],
   "source": [
    "#Поиск k- ближайших соседей по Евклидому расстоянию\n",
    "# Указываем на соседей только один раз!!!\n",
    "def SearchNeighbours(point,Neibhs,k):\n",
    "    #Ищем расстояния\n",
    "    Dists=[]\n",
    "    for Neb in Neibhs:\n",
    "        Dists.append((Neb,EuclideanDistance(markses(point, 'Линейная алгебра',1), markses(Neb, 'Линейная алгебра',1))))\n",
    "        # Выбираем к- ближайших соседей\n",
    "        Dists.sort(key=lambda i: i[1])\n",
    "    return(Dists[:k])    "
   ]
  },
  {
   "cell_type": "code",
   "execution_count": 14,
   "metadata": {},
   "outputs": [],
   "source": [
    "#Поиск k- ближайших соседей по Евклидому расстоянию\n",
    "# Указываем на соседей только один раз!!!\n",
    "def AllNeighbours(point,Neibhs):\n",
    "    #Ищем расстояния\n",
    "    Dists=[]\n",
    "    for Neb in Neibhs:\n",
    "        Dists.append((Neb,EuclideanDistance(markses(point, 'Линейная алгебра',1), markses(Neb, 'Линейная алгебра',1))))\n",
    "        # Выбираем к- ближайших соседей\n",
    "        Dists.sort(key=lambda i: i[1])\n",
    "    return(Dists) "
   ]
  },
  {
   "cell_type": "code",
   "execution_count": 15,
   "metadata": {},
   "outputs": [],
   "source": [
    "sosedy=AllNeighbours(kod[0],kod[1:])"
   ]
  },
  {
   "cell_type": "code",
   "execution_count": 295,
   "metadata": {},
   "outputs": [],
   "source": [
    "#Поиск с \"кротом\"\n",
    "#Поиск k- ближайших соседей по Евклидому расстоянию\n",
    "# Указываем на соседей только один раз!!!\n",
    "def SearchNeighbours(Neibhs,k):\n",
    "    #Ищем расстояния\n",
    "    Dists=[]\n",
    "    for Neb in Neibhs:\n",
    "        Dists.append((Neb,EuclideanDistance(crot, markses(Neb, 'Математический анализ',1))))\n",
    "        # Выбираем к- ближайших соседей\n",
    "        Dists.sort(key=lambda i: i[1])\n",
    "    #return(Dists[:k])"
   ]
  },
  {
   "cell_type": "code",
   "execution_count": 296,
   "metadata": {},
   "outputs": [
    {
     "data": {
      "text/plain": [
       "[(63113, 31.7214438511238),\n",
       " (57051, 32.69174207655505),\n",
       " (50481, 32.977264895682296),\n",
       " (50636, 35.35533905932738),\n",
       " (302497, 35.35533905932738),\n",
       " (312601, 35.35533905932738),\n",
       " (489666, 35.35533905932738)]"
      ]
     },
     "execution_count": 296,
     "metadata": {},
     "output_type": "execute_result"
    }
   ],
   "source": [
    "SearchNeighbours(kod,7)"
   ]
  },
  {
   "cell_type": "code",
   "execution_count": 16,
   "metadata": {},
   "outputs": [],
   "source": [
    "SerNeb=[(63113, 31.7214438511238),\n",
    " (57051, 32.69174207655505),\n",
    " (50481, 32.977264895682296),\n",
    " (50636, 35.35533905932738),\n",
    " (302497, 35.35533905932738),\n",
    " (312601, 35.35533905932738),\n",
    " (489666, 35.35533905932738)]"
   ]
  },
  {
   "cell_type": "code",
   "execution_count": 17,
   "metadata": {},
   "outputs": [],
   "source": [
    "#Мы нашли k- ближайших соседей\n",
    "SerNeb=SearchNeighbours(kod[0],kod,7)"
   ]
  },
  {
   "cell_type": "code",
   "execution_count": 18,
   "metadata": {},
   "outputs": [
    {
     "data": {
      "text/plain": [
       "[(50095, 0.0),\n",
       " (57028, 2.5),\n",
       " (58591, 2.5),\n",
       " (64500, 2.5),\n",
       " (64547, 3.5355339059327378),\n",
       " (65457, 3.5355339059327378),\n",
       " (63198, 4.330127018922194)]"
      ]
     },
     "execution_count": 18,
     "metadata": {},
     "output_type": "execute_result"
    }
   ],
   "source": [
    "SerNeb"
   ]
  },
  {
   "cell_type": "code",
   "execution_count": 19,
   "metadata": {},
   "outputs": [],
   "source": [
    "# Выводим список среднеарифметических оценок для каждого из ближайших выбранных соседей\n",
    "import numpy as np\n",
    "def AverageMarks(spp, predmets,semestrs):\n",
    "    new=[]\n",
    "    schet=0\n",
    "    for t in range(len(spp)):\n",
    "        if t==0: \n",
    "            new=np.array(markses(spp[t][0], predmets,semestrs))\n",
    "            zh=len(new)\n",
    "        else: \n",
    "            if markses(spp[t][0], predmets,semestrs)==[]: schet+=1\n",
    "            else:\n",
    "                if len(np.array(markses(spp[t][0], predmets,semestrs)))<zh: \n",
    "                    new+=np.array(markses(spp[t][0], predmets,semestrs)+[0]*(zh-len(np.array(markses(spp[t][0], predmets,semestrs)))))\n",
    "                else:    \n",
    "                    new+=np.array(markses(spp[t][0], predmets,semestrs)[:zh])\n",
    "    new1=list(new)\n",
    "    for i in range(len(new1)): \n",
    "        new1[i]/=(len(spp)-schet)\n",
    "        #new1[i]/=len(new1)\n",
    "    return(new1)    "
   ]
  },
  {
   "cell_type": "code",
   "execution_count": 20,
   "metadata": {},
   "outputs": [
    {
     "data": {
      "text/plain": [
       "[53.92857142857143, 49.285714285714285, 60.0]"
      ]
     },
     "execution_count": 20,
     "metadata": {},
     "output_type": "execute_result"
    }
   ],
   "source": [
    "AverageMarks(SerNeb,'Теория вероятностей и математическая статистика',3)"
   ]
  },
  {
   "cell_type": "code",
   "execution_count": 21,
   "metadata": {},
   "outputs": [],
   "source": [
    "#Предметы,похожие на выбранный нами.\n",
    "SamePredmets=['Математический анализ',\n",
    " 'Математический анализ',\n",
    " 'Теория вероятностей и математическая статистика',\n",
    "  'Статистика',\n",
    " 'Финансы',\n",
    " 'Мировая экономика и международные экономические отношения',\n",
    " 'Маркетинг',\n",
    " 'Международные инвестиции']"
   ]
  },
  {
   "cell_type": "code",
   "execution_count": 22,
   "metadata": {},
   "outputs": [
    {
     "name": "stdout",
     "output_type": "stream",
     "text": [
      "[56.785714285714285, 67.5, 45.714285714285715, 63.57142857142857, 51.07142857142857, 43.214285714285715, 53.92857142857143, 49.285714285714285, 60.0, 54.285714285714285, 19.642857142857142, 19.821428571428573, 15.357142857142858, 40.0, 16.9811320754717, 19.40700808625337, 18.86792452830189, 8.355795148247978, 53.099730458221025, 22.857142857142858, 13.200000000000001, 23.714285714285715, 22.571428571428573, 58.0, 36.42857142857143, 41.42857142857143, 24.285714285714285, 70.0, 35.714285714285715, 50.0, 38.57142857142857, 68.57142857142857]\n"
     ]
    }
   ],
   "source": [
    "#Получаем весь прогноз по человеку\n",
    "FinishAverage=[]\n",
    "for i in range(len(SamePredmets)):\n",
    "    #ListForStudent.append( markses(kod[0],SamePredmets[i],i+1)) #???\n",
    "    FinishAverage+=AverageMarks(SerNeb,SamePredmets[i],i+1)\n",
    "print(FinishAverage)    "
   ]
  },
  {
   "cell_type": "code",
   "execution_count": 25,
   "metadata": {},
   "outputs": [],
   "source": [
    "#Проверка результатов на самом тестируемомо человеке.\n",
    "def testingOnPerson(person):\n",
    "    proverkaNaCheloveke=[]\n",
    "    for i in range(len(SamePredmets)):\n",
    "        proverkaNaCheloveke+=markses(person,SamePredmets[i],i+1)\n",
    "    return(proverkaNaCheloveke)    "
   ]
  },
  {
   "cell_type": "code",
   "execution_count": 26,
   "metadata": {},
   "outputs": [],
   "source": [
    "RaitForKod=testingOnPerson(kod[0])"
   ]
  },
  {
   "cell_type": "code",
   "execution_count": 28,
   "metadata": {},
   "outputs": [
    {
     "name": "stdout",
     "output_type": "stream",
     "text": [
      "[6.865439690026954, 8.351583557951482, 7.330160601976639, 7.978536682951483, 7.103110680592992, 6.907691065813116, 6.37962853773585, 6.7019841854784366, 6.810491129922881]\n"
     ]
    }
   ],
   "source": [
    "#Лучше не запускать!))\n",
    "#Ищем оптимальное число соседей для максимально точных результатов:\n",
    "ListOfSumm=[]\n",
    "SummOtkl=0\n",
    "ForGradient=[]\n",
    "for K in range(1,10):\n",
    "    SummOtkl=0\n",
    "    #dannK=SearchNeighbours(kod[0],kod[1:],1)\n",
    "    #Получаем весь прогноз по человеку\n",
    "    FinishAverage=[]\n",
    "    for i in range(len(SamePredmets)):\n",
    "        #ListForStudent.append( markses(kod[0],SamePredmets[i],i+1)) #???\n",
    "        FinishAverage+=AverageMarks(sosedy[:K],SamePredmets[i],i+1)\n",
    "    #Теперь ищем отклонение:\n",
    "    for i in range(min(len(FinishAverage),len(RaitForKod))):\n",
    "        SummOtkl+=abs(FinishAverage[i]-RaitForKod[i])\n",
    "    #Теперь надо получить среднеарифметическое из данных отклонений\n",
    "    ListOfSumm.append(SummOtkl/min(len(FinishAverage),len(RaitForKod)))\n",
    "print(ListOfSumm)                      "
   ]
  },
  {
   "cell_type": "code",
   "execution_count": 22,
   "metadata": {},
   "outputs": [],
   "source": [
    "#Вывод наилучших и наихулших сценариев\n",
    "def schenaries(naighbours):\n",
    "    bestAverage=[]\n",
    "    worstAverage=[100000]\n",
    "    for t in list(np.array(naighbours)[:,0]):\n",
    "        if sum(testingOnPerson(t))> sum(bestAverage):\n",
    "            bestAverage=testingOnPerson(t)\n",
    "        if sum(testingOnPerson(t))< sum(worstAverage):\n",
    "            worstAverage=testingOnPerson(t)\n",
    "    return(bestAverage, worstAverage)        "
   ]
  },
  {
   "cell_type": "code",
   "execution_count": 18,
   "metadata": {},
   "outputs": [],
   "source": [
    "#schenaries(SearchNeighbours(kod[0],kod[1:],6))"
   ]
  },
  {
   "cell_type": "code",
   "execution_count": 133,
   "metadata": {},
   "outputs": [],
   "source": [
    "FinishAverage=[]\n",
    "for i in range(len(SamePredmets)):\n",
    "    #ListForStudent.append( markses(kod[0],SamePredmets[i],i+1)) #???\n",
    "    FinishAverage+=AverageMarks(sosedy[:i+1],SamePredmets[i],i+1)"
   ]
  },
  {
   "cell_type": "code",
   "execution_count": 13,
   "metadata": {},
   "outputs": [],
   "source": [
    "#Выводим общую прямую по предметам    "
   ]
  },
  {
   "cell_type": "code",
   "execution_count": 278,
   "metadata": {},
   "outputs": [],
   "source": [
    "# Выводим список среднеарифметических оценок для каждого из ближайших выбранных соседей\n",
    "import numpy as np\n",
    "def AverageGr(spp, predmets,semestrs):\n",
    "    new=[]\n",
    "    schet=0\n",
    "    for t in range(len(spp)):\n",
    "        if t==0: \n",
    "            new=np.array(markses(spp[t], predmets,semestrs))\n",
    "            zh=len(new)\n",
    "        else: \n",
    "            if markses(spp[t], predmets,semestrs)==[]: schet+=1\n",
    "            else:\n",
    "                if len(np.array(markses(spp[t], predmets,semestrs)))<zh: \n",
    "                    new+=np.array(markses(spp[t], predmets,semestrs)+[0]*(zh-len(np.array(markses(spp[t], predmets,semestrs)))))\n",
    "                else:    \n",
    "                    new+=np.array(markses(spp[t], predmets,semestrs)[:zh])\n",
    "    new1=list(new)\n",
    "    for i in range(len(new1)): \n",
    "        new1[i]/=(len(spp)-schet)\n",
    "        #new1[i]/=len(new1)\n",
    "    return(new1)    "
   ]
  },
  {
   "cell_type": "code",
   "execution_count": 20,
   "metadata": {},
   "outputs": [
    {
     "name": "stdout",
     "output_type": "stream",
     "text": [
      "[59.721059972106, 57.76150627615063, 58.59832635983263, 60.01326579835987, 57.76290400385914, 58.61070911722142, 57.61547911547912, 56.518427518427515, 60.097051597051596, 48.09099321406539, 27.346391116594695, 23.395280690931525, 34.28701418877236, 44.451727328809376, 23.935851432916465, 24.063340620692717, 22.16744688940628, 12.78798536191246, 54.36491849246708, 25.477396021699818, 15.711754068716099, 26.06618444846293, 31.259493670886076, 63.047197106690774, 38.915821033210335, 51.40659594095941, 28.81872693726937, 64.31988007380073, 40.49886621315192, 44.30839002267573, 50.385487528344676, 73.51473922902494]\n"
     ]
    }
   ],
   "source": [
    "#Получаем весь прогноз по человеку\n",
    "kodv=kod\n",
    "FinishAverage=[]\n",
    "for i in range(len(SamePredmets)):\n",
    "    #ListForStudent.append( markses(kod[0],SamePredmets[i],i+1)) #???\n",
    "    FinishAverage+=AverageGr(kodv,SamePredmets[i],i+1)\n",
    "print(FinishAverage)  "
   ]
  },
  {
   "cell_type": "code",
   "execution_count": 35,
   "metadata": {},
   "outputs": [],
   "source": [
    "#Строим подпространство для дальнейшего анализа данных\n",
    "Underspace=np.array(SearchNeighbours(kod[0],kod[1:],500))[:,0]"
   ]
  },
  {
   "cell_type": "code",
   "execution_count": 60,
   "metadata": {},
   "outputs": [],
   "source": [
    "Underspace=list(Underspace)\n",
    "Und=Underspace[:200]"
   ]
  },
  {
   "cell_type": "code",
   "execution_count": 61,
   "metadata": {},
   "outputs": [],
   "source": [
    "#Мы нашли k- ближайших соседей\n",
    "SerNebUnder=SearchNeighbours(kod[0],Und,10)"
   ]
  },
  {
   "cell_type": "code",
   "execution_count": 62,
   "metadata": {},
   "outputs": [
    {
     "data": {
      "text/plain": [
       "[(57028.0, 2.5),\n",
       " (58591.0, 2.5),\n",
       " (64500.0, 2.5),\n",
       " (64547.0, 3.5355339059327378),\n",
       " (65457.0, 3.5355339059327378),\n",
       " (63198.0, 4.330127018922194),\n",
       " (51049.0, 5.0),\n",
       " (61291.0, 5.0),\n",
       " (50315.0, 5.5901699437494745),\n",
       " (50787.0, 5.5901699437494745)]"
      ]
     },
     "execution_count": 62,
     "metadata": {},
     "output_type": "execute_result"
    }
   ],
   "source": [
    "SerNebUnder"
   ]
  },
  {
   "cell_type": "code",
   "execution_count": 1,
   "metadata": {},
   "outputs": [
    {
     "ename": "NameError",
     "evalue": "name 'Underspace' is not defined",
     "output_type": "error",
     "traceback": [
      "\u001b[0;31m---------------------------------------------------------------------------\u001b[0m",
      "\u001b[0;31mNameError\u001b[0m                                 Traceback (most recent call last)",
      "\u001b[0;32m<ipython-input-1-aa46710a21f7>\u001b[0m in \u001b[0;36m<module>\u001b[0;34m()\u001b[0m\n\u001b[1;32m      2\u001b[0m \u001b[0;31m#Для построение трехмерных графиков\u001b[0m\u001b[0;34m\u001b[0m\u001b[0;34m\u001b[0m\u001b[0m\n\u001b[1;32m      3\u001b[0m \u001b[0msch\u001b[0m\u001b[0;34m=\u001b[0m\u001b[0;34m-\u001b[0m\u001b[0;36m1\u001b[0m\u001b[0;34m\u001b[0m\u001b[0m\n\u001b[0;32m----> 4\u001b[0;31m \u001b[0;32mfor\u001b[0m \u001b[0mrassmNeighbour\u001b[0m \u001b[0;32min\u001b[0m \u001b[0mUnderspace\u001b[0m\u001b[0;34m[\u001b[0m\u001b[0;34m:\u001b[0m\u001b[0;36m2\u001b[0m\u001b[0;34m]\u001b[0m\u001b[0;34m:\u001b[0m\u001b[0;34m\u001b[0m\u001b[0m\n\u001b[0m\u001b[1;32m      5\u001b[0m     \u001b[0msch\u001b[0m\u001b[0;34m+=\u001b[0m\u001b[0;36m1\u001b[0m\u001b[0;34m\u001b[0m\u001b[0m\n\u001b[1;32m      6\u001b[0m     \u001b[0mSummOtkl\u001b[0m\u001b[0;34m=\u001b[0m\u001b[0;36m0\u001b[0m\u001b[0;34m\u001b[0m\u001b[0m\n",
      "\u001b[0;31mNameError\u001b[0m: name 'Underspace' is not defined"
     ]
    }
   ],
   "source": [
    "#Градиентные спуски для каждого из соседей\n",
    "#Для построение трехмерных графиков\n",
    "sch=-1\n",
    "for rassmNeighbour in Underspace[:2]:\n",
    "    sch+=1\n",
    "    SummOtkl=0\n",
    "    ForGradient=[]\n",
    "    for K in range(1,10):\n",
    "        SummOtkl=0\n",
    "        #Получаем весь прогноз по человеку\n",
    "        FinishAverage=[]\n",
    "        for i in range(len(SamePredmets)):\n",
    "            #ListForStudent.append( markses(kod[0],SamePredmets[i],i+1)) #???\n",
    "            FinishAverage+=AverageMarks(SearchNeighbours(rassmNeighbour,Und,10)[:K],SamePredmets[i],i+1)\n",
    "        #Теперь ищем отклонение:\n",
    "        for i in range(min(len(FinishAverage),len(RaitForKod))):\n",
    "            SummOtkl+=abs(FinishAverage[i]-RaitForKod[i])\n",
    "        #Теперь надо получить среднеарифметическое из данных отклонений\n",
    "        ListOfSumm.append([sch,SummOtkl/min(len(FinishAverage),len(RaitForKod)),K-1])\n",
    "print(ListOfSumm) "
   ]
  },
  {
   "cell_type": "code",
   "execution_count": 191,
   "metadata": {},
   "outputs": [],
   "source": [
    "import numpy as np\n",
    "Itog_list=np.array([[0, 6.865439690026954, 0],\n",
    " [0, 8.127585916442047, 1],\n",
    " [0, 5.851791329739442, 2],\n",
    " [0, 6.450027375336927, 3],\n",
    " [0, 5.841810983827492, 4],\n",
    " [0, 5.791875842318059, 5],\n",
    " [0, 5.929524651841869, 6],\n",
    " [0, 6.168390961927224, 7],\n",
    " [0, 6.460990261867326, 8],\n",
    " [1, 11.000336927223717, 0],\n",
    " [1, 7.900101078167117, 1],\n",
    " [1, 6.642632524707996, 2],\n",
    " [1, 6.186320754716981, 3],\n",
    " [1, 6.206502695417789, 4],\n",
    " [1, 6.654818059299191, 5],\n",
    " [1, 6.855843280708511, 6],\n",
    " [1, 6.646527242972661, 7],\n",
    " [1, 7.069079439952083, 8],\n",
    " [2, 5.000336927223717, 0],\n",
    " [2, 9.900101078167117, 1],\n",
    " [2, 6.642632524707996, 2],\n",
    " [2, 6.186320754716981, 3],\n",
    " [2, 6.206502695417789, 4],\n",
    " [2, 6.654818059299191, 5],\n",
    " [2, 6.855843280708511, 6],\n",
    " [2, 6.646527242972661, 7],\n",
    " [2, 7.069079439952083, 8],\n",
    " [3, 12.000336927223717, 0],\n",
    " [3, 9.935101078167117, 1],\n",
    " [3, 6.642632524707996, 2],\n",
    " [3, 5.086320754716981, 3],\n",
    " [3, 6.103502695417789, 4],\n",
    " [3, 6.654818059299191, 5],\n",
    " [3, 6.745843280708511, 6],\n",
    " [3, 6.686527242972661, 7],\n",
    " [3, 7.157079439952083, 8],\n",
    " [4, 12.000336927223717, 0],\n",
    " [4, 10.9101078167117, 1],\n",
    " [4, 8.642632524707996, 2],\n",
    " [4, 6.186320754716981, 3],\n",
    " [4, 5.806502695417789, 4],\n",
    " [4, 5.754818059299191, 5],\n",
    " [4, 6.055843280708511, 6],\n",
    " [4, 6.146527242972661, 7],\n",
    " [4, 7.009079439952083, 8],\n",
    " [5, 8.70336927223717, 0],\n",
    " [5, 9.62101078167117, 1],\n",
    " [5, 5.642632524707996, 2],\n",
    " [5, 6.186320754716981, 3],\n",
    " [5, 5.706502695417789, 4],\n",
    " [5, 4.995818059299191, 5],\n",
    " [5, 4.955843280708511, 6],\n",
    " [5, 5.146527242972661, 7],\n",
    " [5, 6.068079439952083, 8],\n",
    " [6, 4.200336927223717, 0],\n",
    " [6, 9.900101078167117, 1],\n",
    " [6, 6.222632524707996, 2],\n",
    " [6, 5.986320754716981, 3],\n",
    " [6, 6.003502695417789, 4],\n",
    " [6, 6.954818059299191, 5],\n",
    " [6, 6.745843280708511, 6],\n",
    " [6, 7.885127242972661, 7],\n",
    " [6, 7.157079439952083, 8],\n",
    " [7, 5.200336927223717, 0],\n",
    " [7, 10.120101078167117, 1],\n",
    " [7, 6.342632524707996, 2],\n",
    " [7, 5.276320754716981, 3],\n",
    " [7, 6.973502695417789, 4],\n",
    " [7, 6.454818059299191, 5],\n",
    " [7, 6.567843280708511, 6],\n",
    " [7, 6.765527242972661, 7],\n",
    " [7, 7.150079439952083, 8],\n",
    " [8, 11.099336927223717, 0],\n",
    " [8, 10.700101078167117, 1],\n",
    " [8, 8.312632524707996, 2],\n",
    " [8, 7.926320754716981, 3],\n",
    " [8, 7.806502695417789, 4],\n",
    " [8, 7.354818059299191, 5],\n",
    " [8, 7.145843280708511, 6],\n",
    " [8, 6.806527242972661, 7],\n",
    " [8, 7.069079439952083, 8],\n",
    " [9, 4.950336927223717, 0],\n",
    " [9, 9.890101078167117, 1],\n",
    " [9, 5.242632524707996, 2],\n",
    " [9, 5.586320754716981, 3],\n",
    " [9, 5.606502695417789, 4],\n",
    " [9, 5.254818059299191, 5],\n",
    " [9, 4.985843280708511, 6],\n",
    " [9, 5.156527242972661, 7],\n",
    " [9, 6.269079439952083, 8],\n",
    " [10, 1.210336627223717, 0],\n",
    " [10, 8.166101078167117, 1],\n",
    " [10, 7.222632524707996, 2],\n",
    " [10, 6.086320754716981, 3],\n",
    " [10, 6.103502695417789, 4],\n",
    " [10, 6.054818059299191, 5],\n",
    " [10, 6.755843280708511, 6],\n",
    " [10, 7.186527242972661, 7],\n",
    " [10, 7.157079439952083, 8]])"
   ]
  },
  {
   "cell_type": "code",
   "execution_count": 192,
   "metadata": {},
   "outputs": [
    {
     "data": {
      "text/plain": [
       "7.475531000661596"
      ]
     },
     "execution_count": 192,
     "metadata": {},
     "output_type": "execute_result"
    }
   ],
   "source": [
    "82.23084100727756/11"
   ]
  },
  {
   "cell_type": "code",
   "execution_count": 193,
   "metadata": {},
   "outputs": [
    {
     "data": {
      "text/plain": [
       "[7.475531000661596,\n",
       " 7.475531000661596,\n",
       " 7.475531000661596,\n",
       " 7.475531000661596,\n",
       " 7.475531000661596,\n",
       " 7.475531000661596,\n",
       " 7.475531000661596,\n",
       " 7.475531000661596,\n",
       " 7.475531000661596]"
      ]
     },
     "execution_count": 193,
     "metadata": {},
     "output_type": "execute_result"
    }
   ],
   "source": [
    "OptimumK"
   ]
  },
  {
   "cell_type": "code",
   "execution_count": 196,
   "metadata": {},
   "outputs": [],
   "source": [
    "OptimumK=[]\n",
    "sch=0\n",
    "for k in range(9):\n",
    "    vv=0\n",
    "    vl=k\n",
    "    for neighour in range(11):\n",
    "        vv+=Itog_list[:,1][vl]\n",
    "        vl+=9\n",
    "        #print(Itog_list[:,1][k])\n",
    "    sch+=1    \n",
    "    OptimumK.append(vv/11)"
   ]
  },
  {
   "cell_type": "code",
   "execution_count": 197,
   "metadata": {},
   "outputs": [
    {
     "data": {
      "text/plain": [
       "[7.475531000661596,\n",
       " 9.560955740014714,\n",
       " 6.673465143347218,\n",
       " 6.103930447500613,\n",
       " 6.214985267091398,\n",
       " 6.234641494119089,\n",
       " 6.3272688599024525,\n",
       " 6.47647849015035,\n",
       " 6.8759804237625595]"
      ]
     },
     "execution_count": 197,
     "metadata": {},
     "output_type": "execute_result"
    }
   ],
   "source": [
    "OptimumK"
   ]
  },
  {
   "cell_type": "code",
   "execution_count": null,
   "metadata": {},
   "outputs": [],
   "source": []
  }
 ],
 "metadata": {
  "kernelspec": {
   "display_name": "Python 3",
   "language": "python",
   "name": "python3"
  },
  "language_info": {
   "codemirror_mode": {
    "name": "ipython",
    "version": 3
   },
   "file_extension": ".py",
   "mimetype": "text/x-python",
   "name": "python",
   "nbconvert_exporter": "python",
   "pygments_lexer": "ipython3",
   "version": "3.7.0"
  }
 },
 "nbformat": 4,
 "nbformat_minor": 2
}
