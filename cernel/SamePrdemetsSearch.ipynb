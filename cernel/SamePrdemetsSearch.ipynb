{
 "cells": [
  {
   "cell_type": "code",
   "execution_count": 1,
   "metadata": {},
   "outputs": [],
   "source": [
    "#Связать все с другими файлами!"
   ]
  },
  {
   "cell_type": "code",
   "execution_count": 2,
   "metadata": {},
   "outputs": [],
   "source": [
    "#Функция для удаления дубликатов\n",
    "def unique(lst):\n",
    "    seen = set()\n",
    "    result = []\n",
    "    for x in lst:\n",
    "        if x in seen:\n",
    "            continue\n",
    "        seen.add(x)\n",
    "        result.append(x)\n",
    "    return result"
   ]
  },
  {
   "cell_type": "code",
   "execution_count": 3,
   "metadata": {},
   "outputs": [],
   "source": [
    "#вывести список групп\n",
    "def grList():\n",
    "    import sqlite3\n",
    "    #Создание списка из всех направлений...\n",
    " \n",
    "    conn = sqlite3.connect(\"stud_spisok_ege.db\")\n",
    "    cursor = conn.cursor()\n",
    "\n",
    "    #выбираем прошедшие данные чтобы их вывести...\n",
    "    sql = \"SELECT grp_spec_grp_spec_name FROM stud_spisok \"\n",
    "    cursor.execute(sql)\n",
    "    #print(cursor.fetchall())\n",
    "    specials=cursor.fetchall()\n",
    "\n",
    "    conn.commit()\n",
    "    conn.close()\n",
    "\n",
    "    #Делаем список из специальностей\n",
    "    spec=[]\n",
    "    for i in range(len(unique(specials))):\n",
    "        spec.append(unique(specials)[i][0])\n",
    "    return(spec)"
   ]
  },
  {
   "cell_type": "code",
   "execution_count": 4,
   "metadata": {},
   "outputs": [
    {
     "data": {
      "text/plain": [
       "['Экономика',\n",
       " 'Бухгалтерский учет, анализ и аудит',\n",
       " 'Финансы и кредит',\n",
       " 'Коммерция',\n",
       " 'Менеджмент',\n",
       " 'Экономическая теория',\n",
       " 'Национальная экономика',\n",
       " 'Статистика',\n",
       " 'Управление персоналом',\n",
       " 'Мировая экономика',\n",
       " 'Экономика труда',\n",
       " 'Экономика (беспрофильный бакалавриат)',\n",
       " 'Общеэкономическая подготовка',\n",
       " 'Экономическая безопасность']"
      ]
     },
     "execution_count": 4,
     "metadata": {},
     "output_type": "execute_result"
    }
   ],
   "source": [
    "grList()"
   ]
  },
  {
   "cell_type": "code",
   "execution_count": 15,
   "metadata": {},
   "outputs": [],
   "source": [
    "#Возьмем оценки за 1 семестр у Экономики по математическому анализу"
   ]
  },
  {
   "cell_type": "code",
   "execution_count": 5,
   "metadata": {},
   "outputs": [],
   "source": [
    "#Ищем id студентов выбранной специальности\n",
    "def cod(spec):\n",
    "    import sqlite3\n",
    " \n",
    "    conn = sqlite3.connect(\"stud_spisok_ege.db\")\n",
    "    cursor = conn.cursor()\n",
    "\n",
    "    #выбираем прошедшие данные чтобы их вывести...\n",
    "    sql = \"SELECT stud_kod FROM stud_spisok WHERE grp_spec_grp_spec_name = ?\"\n",
    "    cursor.execute(sql,[(spec)])\n",
    "    #print(cursor.fetchall())\n",
    "    students_kod=cursor.fetchall()\n",
    "\n",
    "    conn.commit()\n",
    "    conn.close()\n",
    "\n",
    "    kod=[]\n",
    "    for i in range(len(students_kod)):\n",
    "        kod.append(students_kod[i][0])\n",
    "    return(kod)"
   ]
  },
  {
   "cell_type": "code",
   "execution_count": 5,
   "metadata": {},
   "outputs": [],
   "source": [
    "#cod(grList()[0])"
   ]
  },
  {
   "cell_type": "code",
   "execution_count": 6,
   "metadata": {},
   "outputs": [],
   "source": [
    "slov_summ_ball=dict.fromkeys(cod('Экономика'))"
   ]
  },
  {
   "cell_type": "code",
   "execution_count": 7,
   "metadata": {},
   "outputs": [],
   "source": [
    "#Находим список предметов, по которым были экзамены у выбранного направления\n",
    "def predms(ID,semestr):\n",
    "    import sqlite3\n",
    " \n",
    "    conn = sqlite3.connect(\"stud_spisok_ege.db\")\n",
    "    cursor = conn.cursor()\n",
    "\n",
    "    #выбираем прошедшие данные чтобы их вывести...\n",
    "    sql = \"SELECT predmet_name FROM stud_spisok_ball WHERE stud_kod = ? AND cd_type_name= ? AND semestr= ?\"\n",
    "    cursor.execute(sql,[(ID),('Экзамен'),(semestr)])\n",
    "    #print(cursor.fetchall())\n",
    "    students_kod=cursor.fetchall()\n",
    "\n",
    "    conn.commit()\n",
    "    conn.close()\n",
    "\n",
    "    predm=[]\n",
    "    for i in range(len(unique(students_kod))):\n",
    "        predm.append(unique(students_kod)[i][0])\n",
    "    return(predm)"
   ]
  },
  {
   "cell_type": "code",
   "execution_count": 15,
   "metadata": {},
   "outputs": [
    {
     "data": {
      "text/plain": [
       "['Иностранный язык профессиональный',\n",
       " 'Бухгалтерский учет',\n",
       " 'Статистика',\n",
       " 'Методы оптимальных решений',\n",
       " 'Макроэкономика']"
      ]
     },
     "execution_count": 15,
     "metadata": {},
     "output_type": "execute_result"
    }
   ],
   "source": [
    "predms(cod('Экономика')[0],4)"
   ]
  },
  {
   "cell_type": "code",
   "execution_count": 8,
   "metadata": {},
   "outputs": [],
   "source": [
    "#Выводим оценки за мат.анализ для каждого id:\n",
    "#Ищем id студентов выбранной специальности\n",
    "def markses(ID,predmet):\n",
    "    import sqlite3\n",
    " \n",
    "    conn = sqlite3.connect(\"stud_spisok_ege.db\")\n",
    "    cursor = conn.cursor()\n",
    "\n",
    "    #matan=u'\\u041c\\u0430\\u0442\\u0435\\u043c\\u0430\\u0442\\u0438\\u0447\\u0435\\u0441\\u043a\\u0438\\u0439 \\u0430\\u043d\\u0430\\u043b\\u0438\\u0437'\n",
    "    #выбираем прошедшие данные чтобы их вывести...\n",
    "    sql = \"SELECT ball FROM stud_spisok_ball WHERE stud_kod = ? AND predmet_name=?\"\n",
    "    cursor.execute(sql,[(ID),(predmet)])\n",
    "    #print(cursor.fetchall())\n",
    "    marks=cursor.fetchall()\n",
    "\n",
    "    conn.commit()\n",
    "    conn.close()\n",
    "\n",
    "    new=[]\n",
    "    for i in marks:\n",
    "        if i[0]==None: new.append(0)\n",
    "        else:new.append(i[0])\n",
    "    return(new) "
   ]
  },
  {
   "cell_type": "code",
   "execution_count": 9,
   "metadata": {},
   "outputs": [],
   "source": [
    "#Делаем словарь из баллов и id студента\n",
    "for i in cod('Экономика'):\n",
    "    slov_summ_ball[i]=sum(markses(i,'Математический анализ'))"
   ]
  },
  {
   "cell_type": "code",
   "execution_count": 10,
   "metadata": {},
   "outputs": [],
   "source": [
    "#Ищем, есть ли данный предмет в следующем семестре:\n",
    "#Возьмем мат анализ:\n",
    "#Если исходного предмета нет, находим похожий на него предмет.\n",
    "import numpy as np\n",
    "\n",
    "same_predmets=[predms(cod(\"Экономика\")[0],1)[2]]\n",
    "for vt in range(1,8):\n",
    "    if same_predmets[vt-1] in predms(cod(\"Экономика\")[0],vt+1):\n",
    "        same_predmets.append(same_predmets[vt-1])\n",
    "    else:\n",
    "        tekB=[] #--сюда мы заносим итоговые суммы для каждого предмета\n",
    "        slov_summ_ball_new=dict.fromkeys(cod('Экономика'))\n",
    "        for ThisPredm in predms(cod('Экономика')[0],vt+1):\n",
    "            for i in cod('Экономика'):\n",
    "                slov_summ_ball_new[i]=sum(markses(i,ThisPredm))\n",
    "            #следующий семестр\n",
    "            slov_summ_ball_new_lists = list(slov_summ_ball_new.items())\n",
    "            slov_summ_ball_new_lists.sort(key=lambda item: item[1])\n",
    "            #текущий семестр\n",
    "            slov_summ_ball_lists = list(slov_summ_ball.items())\n",
    "            slov_summ_ball_lists.sort(key=lambda item: item[1])\n",
    "            ItogSum=0\n",
    "            for i in range(len(slov_summ_ball_lists)):\n",
    "                if slov_summ_ball_lists[i][1]!=0:\n",
    "                    ItogSum+=abs(i-slov_summ_ball_new_lists.index((slov_summ_ball_lists[i][0],slov_summ_ball_new[slov_summ_ball_lists[i][0]])))\n",
    "            tekB.append(ItogSum)\n",
    "        same_predmets.append(predms(cod(\"Экономика\")[0],vt+1)[tekB.index(min(tekB))])\n",
    "            #print(ItogSum)"
   ]
  },
  {
   "cell_type": "code",
   "execution_count": 20,
   "metadata": {},
   "outputs": [],
   "source": [
    "slov_summ_ball_new=dict.fromkeys(cod('Экономика'))\n",
    "for i in cod('Экономика'):\n",
    "    slov_summ_ball_new[i]=sum(markses(i,'Теория вероятностей и математическая статистика'))"
   ]
  },
  {
   "cell_type": "code",
   "execution_count": 21,
   "metadata": {},
   "outputs": [],
   "source": [
    "#следующий семестр\n",
    "slov_summ_ball_new_lists = list(slov_summ_ball_new.items())\n",
    "slov_summ_ball_new_lists.sort(key=lambda item: item[1])"
   ]
  },
  {
   "cell_type": "code",
   "execution_count": 25,
   "metadata": {},
   "outputs": [],
   "source": [
    "#текущий семестр\n",
    "slov_summ_ball_lists = list(slov_summ_ball.items())\n",
    "slov_summ_ball_lists.sort(key=lambda item: item[1])"
   ]
  },
  {
   "cell_type": "code",
   "execution_count": 23,
   "metadata": {},
   "outputs": [],
   "source": [
    "import numpy as np\n",
    "ItogSum=0\n",
    "for i in range(len(slov_summ_ball_lists)):\n",
    "    if slov_summ_ball_lists[i][1]!=0:\n",
    "        ItogSum+=abs(i-slov_summ_ball_new_lists.index((slov_summ_ball_lists[i][0],slov_summ_ball_new[slov_summ_ball_lists[i][0]])))"
   ]
  },
  {
   "cell_type": "code",
   "execution_count": 17,
   "metadata": {},
   "outputs": [],
   "source": [
    "#same_predmets"
   ]
  },
  {
   "cell_type": "code",
   "execution_count": 38,
   "metadata": {},
   "outputs": [
    {
     "name": "stdout",
     "output_type": "stream",
     "text": [
      "927220\n",
      "949565\n",
      "948600\n",
      "0\n",
      "844171\n"
     ]
    }
   ],
   "source": [
    "import numpy as np\n",
    "\n",
    "\n",
    "if predms(cod(\"Экономика\")[0],1)[2] in predms(cod(\"Экономика\")[0],2):\n",
    "    same_predmets.append(same_predmets[vt])\n",
    "else:\n",
    "    slov_summ_ball_new=dict.fromkeys(cod('Экономика'))\n",
    "    for ThisPredm in predms(cod('Экономика')[0],2):\n",
    "        for i in cod('Экономика'):\n",
    "            slov_summ_ball_new[i]=sum(markses(i,ThisPredm))\n",
    "        #следующий семестр\n",
    "        slov_summ_ball_new_lists = list(slov_summ_ball_new.items())\n",
    "        slov_summ_ball_new_lists.sort(key=lambda item: item[1])\n",
    "        #текущий семестр\n",
    "        slov_summ_ball_lists = list(slov_summ_ball.items())\n",
    "        slov_summ_ball_lists.sort(key=lambda item: item[1])\n",
    "        ItogSum=0\n",
    "        for i in range(len(slov_summ_ball_lists)):\n",
    "            if slov_summ_ball_lists[i][1]!=0:\n",
    "                ItogSum+=abs(i-slov_summ_ball_new_lists.index((slov_summ_ball_lists[i][0],slov_summ_ball_new[slov_summ_ball_lists[i][0]])))\n",
    "        print(ItogSum)"
   ]
  },
  {
   "cell_type": "code",
   "execution_count": null,
   "metadata": {},
   "outputs": [],
   "source": []
  }
 ],
 "metadata": {
  "kernelspec": {
   "display_name": "Python 3",
   "language": "python",
   "name": "python3"
  },
  "language_info": {
   "codemirror_mode": {
    "name": "ipython",
    "version": 3
   },
   "file_extension": ".py",
   "mimetype": "text/x-python",
   "name": "python",
   "nbconvert_exporter": "python",
   "pygments_lexer": "ipython3",
   "version": "3.7.0"
  }
 },
 "nbformat": 4,
 "nbformat_minor": 2
}
