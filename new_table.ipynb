{
 "cells": [
  {
   "cell_type": "code",
   "execution_count": 1,
   "metadata": {},
   "outputs": [],
   "source": [
    "#Функция для удаления дубликатов\n",
    "def unique(lst):\n",
    "    seen = set()\n",
    "    result = []\n",
    "    for x in lst:\n",
    "        if x in seen:\n",
    "            continue\n",
    "        seen.add(x)\n",
    "        result.append(x)\n",
    "    return result"
   ]
  },
  {
   "cell_type": "code",
   "execution_count": 2,
   "metadata": {},
   "outputs": [
    {
     "name": "stdout",
     "output_type": "stream",
     "text": [
      "Экономика\n",
      "Бухгалтерский учет, анализ и аудит\n",
      "Финансы и кредит\n",
      "Коммерция\n",
      "Менеджмент\n",
      "Экономическая теория\n",
      "Национальная экономика\n",
      "Статистика\n",
      "Управление персоналом\n",
      "Мировая экономика\n",
      "Экономика труда\n",
      "Экономика (беспрофильный бакалавриат)\n",
      "Общеэкономическая подготовка\n",
      "Экономическая безопасность\n"
     ]
    }
   ],
   "source": [
    "#вывести список групп\n",
    "import sqlite3\n",
    "#Создание списка из всех направлений...\n",
    " \n",
    "conn = sqlite3.connect(\"stud_spisok_ege.db\")\n",
    "cursor = conn.cursor()\n",
    "\n",
    "#выбираем прошедшие данные чтобы их вывести...\n",
    "sql = \"SELECT grp_spec_grp_spec_name FROM stud_spisok \"\n",
    "cursor.execute(sql)\n",
    "#print(cursor.fetchall())\n",
    "specials=cursor.fetchall()\n",
    "\n",
    "conn.commit()\n",
    "conn.close()\n",
    "\n",
    "#Делаем список из специальностей\n",
    "spec=[]\n",
    "for i in range(len(unique(specials))):\n",
    "    spec.append(unique(specials)[i][0])\n",
    "    print(spec[i])\n",
    "    "
   ]
  },
  {
   "cell_type": "code",
   "execution_count": 61,
   "metadata": {},
   "outputs": [],
   "source": [
    "#Ищем id студентов выбранной специальности\n",
    "import sqlite3\n",
    " \n",
    "conn = sqlite3.connect(\"stud_spisok_ege.db\")\n",
    "cursor = conn.cursor()\n",
    "\n",
    "#выбираем прошедшие данные чтобы их вывести...\n",
    "sql = \"SELECT stud_kod FROM stud_spisok WHERE grp_spec_grp_spec_name = ?\"\n",
    "cursor.execute(sql,[(spec[0])])\n",
    "#print(cursor.fetchall())\n",
    "students_kod=cursor.fetchall()\n",
    "\n",
    "conn.commit()\n",
    "conn.close()\n",
    "\n",
    "kod=[]\n",
    "for i in range(len(students_kod)):\n",
    "    kod.append(students_kod[i][0])\n",
    "#print(kod)"
   ]
  },
  {
   "cell_type": "code",
   "execution_count": 41,
   "metadata": {},
   "outputs": [],
   "source": [
    "#Предметов по которым был егэ\n",
    "#Баллы здесь тоже есть!\n",
    "def INTRO(kod1): \n",
    "    conn = sqlite3.connect(\"stud_spisok_ege.db\")\n",
    "    cursor = conn.cursor()\n",
    "\n",
    "    #выбираем прошедшие данные чтобы их вывести...\n",
    "    sql = \"SELECT predmet_name FROM raiting_ege WHERE stud_kod = ?\"\n",
    "    cursor.execute(sql,[(kod1)])\n",
    "    #print(cursor.fetchall())\n",
    "    student_ege=cursor.fetchall()\n",
    "    conn.commit()\n",
    "    conn.close()\n",
    "    intro=[]\n",
    "\n",
    "    if(len(student_ege)==0):\n",
    "        return([])\n",
    "    else:\n",
    "        for i in range (len(student_ege)):\n",
    "            intro.append(student_ege[i][0])\n",
    "        return(intro)"
   ]
  },
  {
   "cell_type": "code",
   "execution_count": 52,
   "metadata": {},
   "outputs": [
    {
     "data": {
      "text/plain": [
       "[u'\\u0420\\u0443\\u0441\\u0441\\u043a\\u0438\\u0439 \\u044f\\u0437\\u044b\\u043a',\n",
       " u'\\u0410\\u043d\\u0433\\u043b\\u0438\\u0439\\u0441\\u043a\\u0438\\u0439 \\u044f\\u0437\\u044b\\u043a',\n",
       " u'\\u041c\\u0430\\u0442\\u0435\\u043c\\u0430\\u0442\\u0438\\u043a\\u0430',\n",
       " u'\\u041e\\u0431\\u0449\\u0435\\u0441\\u0442\\u0432\\u043e\\u0437\\u043d\\u0430\\u043d\\u0438\\u0435']"
      ]
     },
     "execution_count": 52,
     "metadata": {},
     "output_type": "execute_result"
    }
   ],
   "source": [
    "INTRO(kod[0])"
   ]
  },
  {
   "cell_type": "code",
   "execution_count": 45,
   "metadata": {},
   "outputs": [
    {
     "name": "stdout",
     "output_type": "stream",
     "text": [
      "[u'\\u041a\\u043e\\u043d\\u0442\\u0440\\u043e\\u043b\\u044c\\u043d\\u0430\\u044f \\u0440\\u0430\\u0431\\u043e\\u0442\\u0430', u'\\u042d\\u043a\\u0437\\u0430\\u043c\\u0435\\u043d', u'\\u0422\\u0435\\u0441\\u0442', u'\\u0420\\u0430\\u0441\\u0447\\u0435\\u0442\\u043d\\u043e-\\u0433\\u0440\\u0430\\u0444\\u0438\\u0447\\u0435\\u0441\\u043a\\u0430\\u044f \\u0440\\u0430\\u0431\\u043e\\u0442\\u0430', u'\\u0422\\u0435\\u043a\\u0443\\u0449\\u0438\\u0439 \\u043a\\u043e\\u043d\\u0442\\u0440\\u043e\\u043b\\u044c', u'\\u041a\\u043e\\u043d\\u0442\\u0440\\u043e\\u043b\\u044c\\u043d\\u044b\\u0435 \\u043d\\u043e\\u0440\\u043c\\u0430\\u0442\\u0438\\u0432\\u044b', u'\\u0410\\u043d\\u0430\\u043b\\u0438\\u0442\\u0438\\u0447\\u0435\\u0441\\u043a\\u0430\\u044f \\u0440\\u0430\\u0431\\u043e\\u0442\\u0430', u'\\u041f\\u0440\\u0435\\u0437\\u0435\\u043d\\u0442\\u0430\\u0446\\u0438\\u044f', u'\\u041a\\u043e\\u043b\\u043b\\u043e\\u043a\\u0432\\u0438\\u0443\\u043c', u'\\u0414\\u043e\\u043a\\u043b\\u0430\\u0434', u'\\u041a\\u0435\\u0439\\u0441-\\u0437\\u0430\\u0434\\u0430\\u043d\\u0438\\u0435', u'\\u0420\\u0435\\u0444\\u0435\\u0440\\u0430\\u0442', u'\\u0420\\u0430\\u0431\\u043e\\u0447\\u0430\\u044f \\u0442\\u0435\\u0442\\u0440\\u0430\\u0434\\u044c', u'\\u042d\\u0441\\u0441\\u0435', u'\\u0411\\u0430\\u043b\\u043b\\u044b \\u0437\\u0430 1 \\u0441\\u0435\\u043c\\u0435\\u0441\\u0442\\u0440', u'\\u0421\\u0434\\u0430\\u0447\\u0430 \\u043d\\u043e\\u0440\\u043c\\u0430\\u0442\\u0438\\u0432\\u043e\\u0432', u'\\u041a\\u043e\\u043d\\u0442\\u0440\\u043e\\u043b\\u044c\\u043d\\u043e\\u0435 \\u0442\\u0435\\u0441\\u0442\\u0438\\u0440\\u043e\\u0432\\u0430\\u043d\\u0438\\u0435', u'\\u0417\\u0430\\u0447\\u0435\\u0442', u'\\u0417\\u0430\\u0449\\u0438\\u0442\\u0430 \\u043f\\u0438\\u0441\\u044c\\u043c\\u0435\\u043d\\u043d\\u043e\\u0439 \\u0440\\u0430\\u0431\\u043e\\u0442\\u044b', u'\\u0418\\u043d\\u0434\\u0438\\u0432\\u0438\\u0434\\u0443\\u0430\\u043b\\u044c\\u043d\\u043e\\u0435 \\u0437\\u0430\\u0434\\u0430\\u043d\\u0438\\u0435', u'\\u041f\\u0440\\u0430\\u043a\\u0442\\u0438\\u0447\\u0435\\u0441\\u043a\\u0430\\u044f \\u0440\\u0430\\u0431\\u043e\\u0442\\u0430', u'\\u041a\\u0443\\u0440\\u0441\\u043e\\u0432\\u0430\\u044f \\u0440\\u0430\\u0431\\u043e\\u0442\\u0430', u'\\u0417\\u0430\\u0449\\u0438\\u0442\\u0430 \\u0440\\u0435\\u0437\\u0443\\u043b\\u044c\\u0442\\u0430\\u0442\\u043e\\u0432 \\u0438\\u0441\\u0441\\u043b\\u0435\\u0434\\u043e\\u0432\\u0430\\u043d\\u0438\\u044f', u'\\u0414\\u0435\\u043b\\u043e\\u0432\\u0430\\u044f \\u0438\\u0433\\u0440\\u0430', u'\\u0420\\u0430\\u0441\\u0447\\u0435\\u0442\\u043d\\u043e-\\u043f\\u0440\\u0430\\u043a\\u0442\\u0438\\u0447\\u0435\\u0441\\u043a\\u0430\\u044f \\u0440\\u0430\\u0431\\u043e\\u0442\\u0430', u'\\u0420\\u0430\\u0431\\u043e\\u0442\\u0430 \\u043d\\u0430 \\u0441\\u0435\\u043c\\u0438\\u043d\\u0430\\u0440\\u0430\\u0445', u'\\u0411\\u0430\\u043b\\u043b\\u044b \\u0437\\u0430 1-\\u0439 \\u0441\\u0435\\u043c\\u0435\\u0441\\u0442\\u0440 * 0,4', u'\\u0411\\u0430\\u043b\\u043b\\u044b \\u0437\\u0430 1-\\u0439 \\u0441\\u0435\\u043c\\u0435\\u0441\\u0442\\u0440 * 0,32', u'\\u041e\\u0442\\u0447\\u0435\\u0442', u'\\u0417\\u0430\\u0449\\u0438\\u0442\\u0430 \\u043f\\u0440\\u0430\\u043a\\u0442\\u0438\\u043a\\u0443\\u043c\\u0430']\n"
     ]
    }
   ],
   "source": [
    "#вывести список вариантов оценок\n",
    "import sqlite3\n",
    "#Создание списка из всех направлений...\n",
    " \n",
    "conn = sqlite3.connect(\"stud_spisok_ege.db\")\n",
    "cursor = conn.cursor()\n",
    "\n",
    "#выбираем прошедшие данные чтобы их вывести...\n",
    "sql = \"SELECT cd_type_name FROM stud_spisok_ball \"\n",
    "cursor.execute(sql)\n",
    "#print(cursor.fetchall())\n",
    "vall=cursor.fetchall()\n",
    "\n",
    "conn.commit()\n",
    "conn.close()\n",
    "\n",
    "#Делаем список из специальностей\n",
    "ball=[]\n",
    "for i in range(len(unique(vall))):\n",
    "    ball.append(unique(vall)[i][0])\n",
    "print(ball)"
   ]
  },
  {
   "cell_type": "code",
   "execution_count": 69,
   "metadata": {},
   "outputs": [
    {
     "name": "stdout",
     "output_type": "stream",
     "text": [
      "Философия\n",
      "Математический анализ\n",
      "Линейная алгебра\n",
      "Психология\n"
     ]
    }
   ],
   "source": [
    "#Находим список предметов, по которым были экзамены у выбранного направления\n",
    "import sqlite3\n",
    " \n",
    "conn = sqlite3.connect(\"stud_spisok_ege.db\")\n",
    "cursor = conn.cursor()\n",
    "\n",
    "#выбираем прошедшие данные чтобы их вывести...\n",
    "sql = \"SELECT predmet_name FROM stud_spisok_ball WHERE stud_kod = ? AND cd_type_name= ? AND semestr= ?\"\n",
    "cursor.execute(sql,[(kod[0]),(u'\\u042d\\u043a\\u0437\\u0430\\u043c\\u0435\\u043d'),(1)])\n",
    "#print(cursor.fetchall())\n",
    "students_kod=cursor.fetchall()\n",
    "\n",
    "conn.commit()\n",
    "conn.close()\n",
    "\n",
    "predm=[]\n",
    "for i in range(len(unique(students_kod))):\n",
    "    predm.append(unique(students_kod)[i][0])\n",
    "    print(predm[i])"
   ]
  },
  {
   "cell_type": "code",
   "execution_count": 70,
   "metadata": {},
   "outputs": [],
   "source": [
    "#Вывод баллов ЕГЭ для выбранного студента:\n",
    "#Баллы здесь тоже есть!\n",
    "def identyEge(IDENTY, Ege_predmet):\n",
    "    #import sqlite3\n",
    " \n",
    "    conn = sqlite3.connect(\"stud_spisok_ege.db\")\n",
    "    cursor = conn.cursor()\n",
    "\n",
    "    #выбираем прошедшие данные чтобы их вывести...\n",
    "    sql = \"SELECT ball FROM raiting_ege WHERE stud_kod = ? AND predmet_name=?\"\n",
    "    cursor.execute(sql,[(IDENTY),(Ege_predmet)])\n",
    "    #print(cursor.fetchall())\n",
    "    student_ege=cursor.fetchall()[0][0]\n",
    "    conn.commit()\n",
    "    conn.close()\n",
    "    return(student_ege)"
   ]
  },
  {
   "cell_type": "code",
   "execution_count": 71,
   "metadata": {},
   "outputs": [
    {
     "data": {
      "text/plain": [
       "61"
      ]
     },
     "execution_count": 71,
     "metadata": {},
     "output_type": "execute_result"
    }
   ],
   "source": [
    "identyEge(kod[1200], INTRO(kod[1200])[0])"
   ]
  },
  {
   "cell_type": "code",
   "execution_count": 74,
   "metadata": {},
   "outputs": [],
   "source": [
    "#Балл за выбранный экзамен на выбранном направлении!\n",
    "def identyEkz(IDENTY,Ekz_predmet):\n",
    "    #import sqlite3\n",
    " \n",
    "    conn = sqlite3.connect(\"stud_spisok_ege.db\")\n",
    "    cursor = conn.cursor()\n",
    "\n",
    "    #выбираем прошедшие данные чтобы их вывести...\n",
    "    sql = \"SELECT ball FROM stud_spisok_ball WHERE stud_kod = ? AND cd_type_name= ? AND predmet_name=?\"\n",
    "    cursor.execute(sql,[(IDENTY),(u'\\u042d\\u043a\\u0437\\u0430\\u043c\\u0435\\u043d'),(Ekz_predmet)])\n",
    "    #print(cursor.fetchall())\n",
    "    students_kod=cursor.fetchall()#[0][0]\n",
    "    if students_kod==[]: students_kod=[(0,)]\n",
    "    \n",
    "    conn.commit()\n",
    "    conn.close()\n",
    "\n",
    "    return(students_kod[0][0])"
   ]
  },
  {
   "cell_type": "code",
   "execution_count": 75,
   "metadata": {},
   "outputs": [],
   "source": [
    "#Проверяем, есть ли указанный id в таблице сдавших ЕГЭ ребят...\n",
    "def idFinder(idi):\n",
    "    #import sqlite3\n",
    " \n",
    "    conn = sqlite3.connect(\"stud_spisok_ege.db\")\n",
    "    cursor = conn.cursor()\n",
    "\n",
    "    #выбираем прошедшие данные чтобы их вывести...\n",
    "    sql = \"SELECT stud_kod FROM raiting_ege WHERE stud_kod = ?\"\n",
    "    cursor.execute(sql,[(idi)])\n",
    "    #print(cursor.fetchall())\n",
    "    student_ege=cursor.fetchall()\n",
    "    conn.commit()\n",
    "    conn.close()\n",
    "    if student_ege==[]:\n",
    "        flag=False\n",
    "    else: flag=True \n",
    "    return(flag)"
   ]
  },
  {
   "cell_type": "code",
   "execution_count": 66,
   "metadata": {},
   "outputs": [
    {
     "ename": "TypeError",
     "evalue": "INTRO() takes exactly 1 argument (0 given)",
     "output_type": "error",
     "traceback": [
      "\u001b[0;31m---------------------------------------------------------------------------\u001b[0m",
      "\u001b[0;31mTypeError\u001b[0m                                 Traceback (most recent call last)",
      "\u001b[0;32m<ipython-input-66-c637f78239dc>\u001b[0m in \u001b[0;36m<module>\u001b[0;34m()\u001b[0m\n\u001b[1;32m      1\u001b[0m \u001b[0mItogList\u001b[0m\u001b[0;34m=\u001b[0m\u001b[0;34m[\u001b[0m\u001b[0;34m]\u001b[0m\u001b[0;34m\u001b[0m\u001b[0m\n\u001b[1;32m      2\u001b[0m \u001b[0;31m#for ekz in predm:\u001b[0m\u001b[0;34m\u001b[0m\u001b[0;34m\u001b[0m\u001b[0m\n\u001b[0;32m----> 3\u001b[0;31m \u001b[0;32mfor\u001b[0m \u001b[0mege\u001b[0m \u001b[0;32min\u001b[0m \u001b[0mINTRO\u001b[0m\u001b[0;34m(\u001b[0m\u001b[0;34m)\u001b[0m\u001b[0;34m:\u001b[0m\u001b[0;34m\u001b[0m\u001b[0m\n\u001b[0m\u001b[1;32m      4\u001b[0m     \u001b[0;32mfor\u001b[0m \u001b[0mstudID\u001b[0m \u001b[0;32min\u001b[0m \u001b[0mkod\u001b[0m\u001b[0;34m:\u001b[0m\u001b[0;34m\u001b[0m\u001b[0m\n\u001b[1;32m      5\u001b[0m         \u001b[0;32mif\u001b[0m \u001b[0midFinder\u001b[0m\u001b[0;34m(\u001b[0m\u001b[0mstudID\u001b[0m\u001b[0;34m)\u001b[0m\u001b[0;34m==\u001b[0m\u001b[0mTrue\u001b[0m\u001b[0;34m:\u001b[0m\u001b[0;34m\u001b[0m\u001b[0m\n",
      "\u001b[0;31mTypeError\u001b[0m: INTRO() takes exactly 1 argument (0 given)"
     ]
    }
   ],
   "source": [
    "ItogList=[]\n",
    "#for ekz in predm:\n",
    "for ege in INTRO():\n",
    "    for studID in kod:\n",
    "        if idFinder(studID)==True:\n",
    "            ItogList+=[[identyEkz(studID,predm[0]),identyEge(studID, ege)]]\n",
    "    "
   ]
  },
  {
   "cell_type": "code",
   "execution_count": null,
   "metadata": {},
   "outputs": [],
   "source": [
    "ItogList=[] \n",
    "for studID in kod:\n",
    "    if idFinder(studID)==True:\n",
    "        a=identyEkz(studID,predm[0])\n",
    "        b=identyEge(studID, INTRO(kod[1200])[0])\n",
    "        if a==None: a=0\n",
    "        if b==None: b=0\n",
    "        ItogList+=[[int(a),int(b)]]       "
   ]
  },
  {
   "cell_type": "code",
   "execution_count": 54,
   "metadata": {},
   "outputs": [],
   "source": [
    "import numpy as np\n",
    "pp=np.array(ItogList)"
   ]
  },
  {
   "cell_type": "code",
   "execution_count": 55,
   "metadata": {},
   "outputs": [
    {
     "data": {
      "text/plain": [
       "array([ 9, 10, 10, ...,  0,  0,  0])"
      ]
     },
     "execution_count": 55,
     "metadata": {},
     "output_type": "execute_result"
    }
   ],
   "source": [
    "pp[:,0]"
   ]
  },
  {
   "cell_type": "code",
   "execution_count": 35,
   "metadata": {},
   "outputs": [],
   "source": [
    "#Вычисляем коэффициен корелляции Пирсона\n",
    "import math\n",
    "def average(x):\n",
    "    assert len(x)>0\n",
    "    return float(sum(x))/len(x)\n",
    "\n",
    "def pearson_def(x,y):\n",
    "    assert len(x)==len(y)\n",
    "    n= len(x)\n",
    "    assert n>0\n",
    "    avg_x=average(x)\n",
    "    avg_y=average(y)\n",
    "    diffprod=0\n",
    "    xdiff2=0\n",
    "    ydiff2=0\n",
    "    for idx in range(n):\n",
    "        xdiff=x[idx]-avg_x\n",
    "        ydiff=y[idx]-avg_y\n",
    "        diffprod += xdiff *ydiff\n",
    "        xdiff2 += xdiff *xdiff\n",
    "        ydiff2 += ydiff *ydiff\n",
    "    return diffprod /math.sqrt(xdiff2 * ydiff2)"
   ]
  },
  {
   "cell_type": "code",
   "execution_count": 29,
   "metadata": {},
   "outputs": [
    {
     "name": "stdout",
     "output_type": "stream",
     "text": [
      "-0.221982290007\n"
     ]
    }
   ],
   "source": [
    "print pearson_def(pp[:,0],pp[:,1])"
   ]
  },
  {
   "cell_type": "code",
   "execution_count": null,
   "metadata": {},
   "outputs": [],
   "source": []
  }
 ],
 "metadata": {
  "kernelspec": {
   "display_name": "Python 3",
   "language": "python",
   "name": "python3"
  },
  "language_info": {
   "codemirror_mode": {
    "name": "ipython",
    "version": 3
   },
   "file_extension": ".py",
   "mimetype": "text/x-python",
   "name": "python",
   "nbconvert_exporter": "python",
   "pygments_lexer": "ipython3",
   "version": "3.7.0"
  }
 },
 "nbformat": 4,
 "nbformat_minor": 2
}
