{
 "cells": [
  {
   "cell_type": "markdown",
   "metadata": {},
   "source": [
    "   Создание кластеров по баллам ЕГЭ и по баллам за 1 семестр: ищем 20 ближайших соседей там и там. Далее, проводим сравнение кластеров, то есть для каждого объекта смотрим как изменилось количество его ближайших соседей.\n",
    "Подготовка: выводим информацию по каждой специальности "
   ]
  },
  {
   "cell_type": "code",
   "execution_count": 3,
   "metadata": {},
   "outputs": [],
   "source": [
    "#Функция для удаления дубликатов\n",
    "def unique(lst):\n",
    "    seen = set()\n",
    "    result = []\n",
    "    for x in lst:\n",
    "        if x in seen:\n",
    "            continue\n",
    "        seen.add(x)\n",
    "        result.append(x)\n",
    "    return result\n",
    "\n",
    "\n",
    "#Функция перемножения множеств\n",
    "def inters(a):\n",
    "    s=set(a[0])\n",
    "    for lst in a:\n",
    "        s=s.intersection(set(lst))\n",
    "    return(s)   "
   ]
  },
  {
   "cell_type": "code",
   "execution_count": 4,
   "metadata": {},
   "outputs": [],
   "source": [
    "#Ищем id студентов выбранной специальности\n",
    "#вывести список групп\n",
    "def spec():\n",
    "    import sqlite3\n",
    "    #Создание списка из всех направлений...\n",
    " \n",
    "    conn = sqlite3.connect(\"stud_spisok_ege.db\")\n",
    "    cursor = conn.cursor()\n",
    "\n",
    "    #выбираем прошедшие данные чтобы их вывести...\n",
    "    sql = \"SELECT grp_spec_grp_spec_name FROM stud_spisok \"\n",
    "    cursor.execute(sql)\n",
    "    #print(cursor.fetchall())\n",
    "    specials=cursor.fetchall()\n",
    "\n",
    "    conn.commit()\n",
    "    conn.close()\n",
    "\n",
    "    #Делаем список из специальностей\n",
    "    specs=[]\n",
    "    for i in range(len(unique(specials))):\n",
    "        specs.append(unique(specials)[i][0])\n",
    "    return(specs)"
   ]
  },
  {
   "cell_type": "code",
   "execution_count": 7,
   "metadata": {},
   "outputs": [],
   "source": [
    "#Ищем id студентов выбранной специальности\n",
    "def kods(specs):\n",
    "    import sqlite3\n",
    " \n",
    "    conn = sqlite3.connect(\"stud_spisok_ege.db\")\n",
    "    cursor = conn.cursor()\n",
    "\n",
    "    #выбираем прошедшие данные чтобы их вывести...\n",
    "    sql = \"SELECT stud_kod FROM stud_spisok WHERE grp_spec_grp_spec_name = ?\"\n",
    "    cursor.execute(sql,[(specs)])\n",
    "    #print(cursor.fetchall())\n",
    "    students_kod=cursor.fetchall()\n",
    "\n",
    "    conn.commit()\n",
    "    conn.close()\n",
    "\n",
    "    kod=[]\n",
    "    for i in range(len(students_kod)):\n",
    "        kod.append(students_kod[i][0])\n",
    "    return(kod)"
   ]
  },
  {
   "cell_type": "code",
   "execution_count": 8,
   "metadata": {},
   "outputs": [],
   "source": [
    "kod=kods(spec()[0])\n",
    "#kod"
   ]
  },
  {
   "cell_type": "code",
   "execution_count": 13,
   "metadata": {},
   "outputs": [],
   "source": [
    "#Вывод баллов ЕГЭ для выбранного студента:\n",
    "def identyEge(IDENTY, Ege_predmet):\n",
    "    import sqlite3\n",
    " \n",
    "    conn = sqlite3.connect(\"stud_spisok_ege.db\")\n",
    "    cursor = conn.cursor()\n",
    "\n",
    "    #выбираем прошедшие данные чтобы их вывести...\n",
    "    sql = \"SELECT ball FROM raiting_ege WHERE stud_kod = ? AND predmet_name=?\"\n",
    "    cursor.execute(sql,[(IDENTY),(Ege_predmet)])\n",
    "    #print(cursor.fetchall())\n",
    "    student_ege=cursor.fetchall()\n",
    "    conn.commit()\n",
    "    conn.close()\n",
    "    if student_ege==[]:return(0)\n",
    "    else: return(student_ege[0][0])"
   ]
  },
  {
   "cell_type": "code",
   "execution_count": 14,
   "metadata": {},
   "outputs": [
    {
     "data": {
      "text/plain": [
       "76"
      ]
     },
     "execution_count": 14,
     "metadata": {},
     "output_type": "execute_result"
    }
   ],
   "source": [
    "identyEge(kod[0], 'Русский язык')"
   ]
  },
  {
   "cell_type": "code",
   "execution_count": 15,
   "metadata": {},
   "outputs": [],
   "source": [
    "#ВЫбираем 3 балла ЕГэ по каждому студенту:\n",
    "ege_spis=[]\n",
    "for i in range(len(kod)):\n",
    "    ege_spis.append([kod[i],identyEge(kod[i], 'Русский язык'),identyEge(kod[i], 'Математика'),identyEge(kod[0], 'Обществознание')])"
   ]
  },
  {
   "cell_type": "code",
   "execution_count": 17,
   "metadata": {},
   "outputs": [],
   "source": [
    "#Эвклидово расстояние\n",
    "def EuclideanDistance(list1, list2):\n",
    "    \n",
    "    #Если списки не равны, то уравниваем их:\n",
    "    if len(list1)!=len(list2):\n",
    "        if len(list1)>len(list2):\n",
    "            list2+=[0]*abs(len(list1)-len(list2))\n",
    "        else: \n",
    "            list1+=[0]*abs(len(list1)-len(list2))\n",
    "                           \n",
    "    Eukl=0\n",
    "    for i in range(len(list1)):\n",
    "        Eukl+=(list1[i]-list2[i])**2\n",
    "    return(Eukl**(1/2))"
   ]
  },
  {
   "cell_type": "code",
   "execution_count": 18,
   "metadata": {},
   "outputs": [],
   "source": [
    "#Строим список к(20)-ближайших соседей для каждого студента\n",
    "import numpy as np\n",
    "itog_list=[]\n",
    "\n",
    "for j in range(len(kod)):\n",
    "    list_of_neibh=[]\n",
    "    for i in range(len(ege_spis)):\n",
    "        list_of_neibh.append([ege_spis[i][0],EuclideanDistance(ege_spis[j][1:], ege_spis[i][1:])])\n",
    "    list_of_neibh.sort(key=lambda x: x[1])\n",
    "    itog_list.append([ege_spis[j][0],list(np.array(list_of_neibh[1:21])[:,0])])"
   ]
  },
  {
   "cell_type": "code",
   "execution_count": 115,
   "metadata": {},
   "outputs": [
    {
     "data": {
      "text/plain": [
       "[50095, 50104, 50137]"
      ]
     },
     "execution_count": 115,
     "metadata": {},
     "output_type": "execute_result"
    }
   ],
   "source": [
    "kod[:3]"
   ]
  },
  {
   "cell_type": "code",
   "execution_count": 9,
   "metadata": {},
   "outputs": [],
   "source": [
    "#ege_spis"
   ]
  },
  {
   "cell_type": "code",
   "execution_count": 19,
   "metadata": {},
   "outputs": [],
   "source": [
    "itog_list.sort()\n",
    "#itog_list"
   ]
  },
  {
   "cell_type": "markdown",
   "metadata": {},
   "source": [
    "Теперь сделаем тоже самое для баллов за 1 семестр:"
   ]
  },
  {
   "cell_type": "code",
   "execution_count": 119,
   "metadata": {},
   "outputs": [],
   "source": [
    "\n",
    "\n",
    "#Выводим оценки за выбранный предмет для каждого id:\n",
    "#Ищем id студентов выбранной специальности\n",
    "def markses(ID, predmet,semak):\n",
    "    import sqlite3\n",
    " \n",
    "    \n",
    "    conn = sqlite3.connect(\"stud_spisok_ege.db\")\n",
    "    cursor = conn.cursor()\n",
    "    \n",
    "    #matan='Математический анализ'\n",
    "\n",
    "    #выбираем прошедшие данные чтобы их вывести...\n",
    "    sql = \"SELECT ball FROM stud_spisok_ball WHERE stud_kod = ? AND predmet_name=? AND semestr=?\"\n",
    "    cursor.execute(sql,[(ID),(predmet),(semak)])\n",
    "    #print(cursor.fetchall())\n",
    "    marks=cursor.fetchall()\n",
    "    \n",
    "    \n",
    "    sql_11 = \"SELECT ball FROM stud_spisok_ball WHERE predmet_name=?\"\n",
    "    cursor.execute(sql_11,[(predmet)])\n",
    "    maximum=cursor.fetchall()\n",
    "    \n",
    "    conn.commit()\n",
    "    conn.close()\n",
    "    \n",
    "    new_11=0\n",
    "    for i in maximum:\n",
    "        if i[0]==None: continue\n",
    "        if new_11<i[0]: new_11=i[0]\n",
    "\n",
    "    new=[]\n",
    "    for i in marks:\n",
    "        if i[0]==None: new.append(0)\n",
    "        else:new.append(i[0]*100/new_11)\n",
    "    return(new) "
   ]
  },
  {
   "cell_type": "code",
   "execution_count": 123,
   "metadata": {},
   "outputs": [
    {
     "data": {
      "text/plain": [
       "[50.0, 87.5, 37.5]"
      ]
     },
     "execution_count": 123,
     "metadata": {},
     "output_type": "execute_result"
    }
   ],
   "source": [
    "markses(kod[0],'Математический анализ',1)"
   ]
  },
  {
   "cell_type": "code",
   "execution_count": 199,
   "metadata": {},
   "outputs": [],
   "source": [
    "marks_list=[]\n",
    "for i in range(len(kod)):\n",
    "    if(len(markses(kod[i],'Линейная алгебра',1))>0 and len(markses(kod[i],'Философия',1))>0 and len(markses(kod[i],'Математический анализ',1))>0 and len(markses(kod[129],'Психология',1))>0):\n",
    "        marks_list.append([kod[i],markses(kod[i],'Философия',1)[-1],markses(kod[i],'Математический анализ',1)[-1],markses(kod[i],'Линейная алгебра',1)[-1],markses(kod[i],'Психология',1)[-1]])"
   ]
  },
  {
   "cell_type": "code",
   "execution_count": 20,
   "metadata": {},
   "outputs": [],
   "source": [
    "#marks_list"
   ]
  },
  {
   "cell_type": "code",
   "execution_count": 206,
   "metadata": {},
   "outputs": [],
   "source": [
    "#Строим список к(20)-ближайших соседей для каждого студента но уже по экзаменам\n",
    "import numpy as np\n",
    "itog_list_b=[]\n",
    "\n",
    "for j in range(len(marks_list)):\n",
    "    list_of_neibh_b=[]\n",
    "    for i in range(len(marks_list)):\n",
    "        list_of_neibh_b.append([marks_list[i][0],EuclideanDistance(marks_list[j][1:], marks_list[i][1:])])\n",
    "    list_of_neibh_b.sort(key=lambda x: x[1])\n",
    "    itog_list_b.append([marks_list[j][0],list(np.array(list_of_neibh_b[1:21])[:,0])])"
   ]
  },
  {
   "cell_type": "code",
   "execution_count": 21,
   "metadata": {},
   "outputs": [],
   "source": [
    "#itog_list_b.sort()\n",
    "#itog_list_b"
   ]
  },
  {
   "cell_type": "code",
   "execution_count": 228,
   "metadata": {},
   "outputs": [],
   "source": [
    "mass=[]\n",
    "for i in range(len(itog_list_b)):\n",
    "    sch=0\n",
    "    for j in range(len(itog_list)):\n",
    "        if itog_list_b[i][0]==itog_list[j][0]:\n",
    "            for k in range(len(itog_list[j])):\n",
    "                if itog_list[j][k] in itog_list_b[i]:\n",
    "                    sch+=1\n",
    "            break\n",
    "    mass.append(sch)"
   ]
  },
  {
   "cell_type": "code",
   "execution_count": 1,
   "metadata": {},
   "outputs": [],
   "source": [
    "#mass"
   ]
  },
  {
   "cell_type": "code",
   "execution_count": 220,
   "metadata": {},
   "outputs": [],
   "source": [
    "s=0\n",
    "for i in range(len(itog_list_b)):\n",
    "    sch=0\n",
    "    for j in range(len(itog_list_b[i])):\n",
    "        if itog_list_b[i][0]==itog_list[j][0]:\n",
    "            sch+=1\n",
    "            break"
   ]
  },
  {
   "cell_type": "code",
   "execution_count": 221,
   "metadata": {},
   "outputs": [
    {
     "data": {
      "text/plain": [
       "129"
      ]
     },
     "execution_count": 221,
     "metadata": {},
     "output_type": "execute_result"
    }
   ],
   "source": [
    "s"
   ]
  },
  {
   "cell_type": "code",
   "execution_count": null,
   "metadata": {},
   "outputs": [],
   "source": []
  }
 ],
 "metadata": {
  "kernelspec": {
   "display_name": "Python 3",
   "language": "python",
   "name": "python3"
  },
  "language_info": {
   "codemirror_mode": {
    "name": "ipython",
    "version": 3
   },
   "file_extension": ".py",
   "mimetype": "text/x-python",
   "name": "python",
   "nbconvert_exporter": "python",
   "pygments_lexer": "ipython3",
   "version": "3.7.0"
  }
 },
 "nbformat": 4,
 "nbformat_minor": 2
}
