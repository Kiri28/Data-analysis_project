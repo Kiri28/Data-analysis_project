{
 "cells": [
  {
   "cell_type": "code",
   "execution_count": 1,
   "metadata": {},
   "outputs": [],
   "source": [
    "def inserting(Stud_kod,predmet_name,ball,year,swid_status,ab,ac,ad,ae,aue):\n",
    "    import sqlite3\n",
    "    # Создаем соединение с нашей базой\n",
    "    conn = sqlite3.connect('stud_spisok_ege.db')\n",
    "\n",
    "    cursor = conn.cursor()\n",
    "    # Делаем INSERT запрос к базе данных\n",
    "    cursor.execute(\"insert into stud_spisok values (?, ?, ?, ?, ?,?,?,?,?,?)\",[(Stud_kod),(predmet_name),(ball),(year),(swid_status),(ab),(ac),(ad),(ae),(aue)])\n",
    "    conn.commit()\n",
    "    # Проверяем результат\n",
    "    cursor.execute(\"SELECT stud_kod FROM stud_spisok ORDER BY stud_kod LIMIT 1\")\n",
    "    results = cursor.fetchall()\n",
    "    print(results)\n",
    "\n",
    "    # Не забываем закрыть соединение с базой данных\n",
    "    conn.close()   "
   ]
  },
  {
   "cell_type": "code",
   "execution_count": 12,
   "metadata": {},
   "outputs": [],
   "source": [
    "#Загружаем данные из экселя...\n",
    "def Importing(length):\n",
    "    import openpyxl\n",
    "    excel_document = openpyxl.load_workbook(vvod)\n",
    "    sheet = excel_document.get_sheet_by_name('Unecon_students_analis/stud_spisok.xlsx')\n",
    "    for i in range(length-2):\n",
    "        inserting(sheet.cell (row = i+2, column = 1).value, sheet.cell (row = i+2, column = 2).value, sheet.cell (row = i+2, column = 3).value, sheet.cell (row = i+2, column = 4).value, sheet.cell (row = i+2, column = 5).value,sheet.cell (row = i+2, column = 6).value, sheet.cell (row = i+2, column = 7).value,sheet.cell (row = i+2, column = 8).value, sheet.cell (row = i+2, column = 9).value,sheet.cell (row = i+2, column = 10).value)"
   ]
  },
  {
   "cell_type": "code",
   "execution_count": 8,
   "metadata": {},
   "outputs": [],
   "source": [
    "#Удаление; НЕ ЗАПУСКАТЬ!\n",
    "import sqlite3\n",
    "conn = sqlite3.connect(\"stud_spisok_ege.db\")\n",
    "cursor = conn.cursor()\n",
    "#выбираем прошедшие данные чтобы их вывести...\n",
    "#sql = \"DELETE FROM raiting_ege WHERE stud_kod < ?\"\n",
    "#cursor.execute(sql,[(50095)])\n",
    "conn.commit()\n",
    "conn.close()"
   ]
  },
  {
   "cell_type": "code",
   "execution_count": null,
   "metadata": {},
   "outputs": [],
   "source": []
  }
 ],
 "metadata": {
  "kernelspec": {
   "display_name": "Python 3",
   "language": "python",
   "name": "python3"
  },
  "language_info": {
   "codemirror_mode": {
    "name": "ipython",
    "version": 3
   },
   "file_extension": ".py",
   "mimetype": "text/x-python",
   "name": "python",
   "nbconvert_exporter": "python",
   "pygments_lexer": "ipython3",
   "version": "3.7.0"
  }
 },
 "nbformat": 4,
 "nbformat_minor": 2
}
